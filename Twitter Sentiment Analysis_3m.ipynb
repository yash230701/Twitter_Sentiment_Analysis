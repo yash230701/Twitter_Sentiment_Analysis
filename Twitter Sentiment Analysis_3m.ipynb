{
 "cells": [
  {
   "cell_type": "markdown",
   "id": "2c3d79d5",
   "metadata": {},
   "source": [
    "# Dataset Information\n",
    "The objective of this task is to detect hate speech in tweets. For the sake of simplicity, we say a tweet contains hate speech if it has a racist or sexist sentiment associated with it. So, the task is to classify racist or sexist tweets from other tweets.\n",
    "\n",
    "Formally, given a sample of tweets and labels, where label '1' denotes the tweet is racist/sexist and label '0' denotes the tweet is not racist/sexist, our objective is to buildd the model with best accuracy.\n"
   ]
  },
  {
   "cell_type": "markdown",
   "id": "fa7d2b46",
   "metadata": {},
   "source": [
    " # Import Modules"
   ]
  },
  {
   "cell_type": "code",
   "execution_count": 1,
   "id": "b281568a",
   "metadata": {},
   "outputs": [],
   "source": [
    "import pandas as pd\n",
    "import numpy as np\n",
    "import matplotlib.pyplot as plt\n",
    "import seaborn as sns\n",
    "import re\n",
    "import string\n",
    "import nltk\n",
    "import warnings\n",
    "%matplotlib inline\n",
    "warnings.filterwarnings('ignore')"
   ]
  },
  {
   "cell_type": "markdown",
   "id": "629f31d2",
   "metadata": {},
   "source": [
    "# Load Dataset"
   ]
  },
  {
   "cell_type": "code",
   "execution_count": 2,
   "id": "3b41299a",
   "metadata": {},
   "outputs": [
    {
     "data": {
      "text/html": [
       "<div>\n",
       "<style scoped>\n",
       "    .dataframe tbody tr th:only-of-type {\n",
       "        vertical-align: middle;\n",
       "    }\n",
       "\n",
       "    .dataframe tbody tr th {\n",
       "        vertical-align: top;\n",
       "    }\n",
       "\n",
       "    .dataframe thead th {\n",
       "        text-align: right;\n",
       "    }\n",
       "</style>\n",
       "<table border=\"1\" class=\"dataframe\">\n",
       "  <thead>\n",
       "    <tr style=\"text-align: right;\">\n",
       "      <th></th>\n",
       "      <th>Unnamed: 0</th>\n",
       "      <th>tweet</th>\n",
       "      <th>sentiment</th>\n",
       "    </tr>\n",
       "  </thead>\n",
       "  <tbody>\n",
       "    <tr>\n",
       "      <th>0</th>\n",
       "      <td>0</td>\n",
       "      <td>is upset that he can't update his Facebook by ...</td>\n",
       "      <td>0.0</td>\n",
       "    </tr>\n",
       "    <tr>\n",
       "      <th>1</th>\n",
       "      <td>1</td>\n",
       "      <td>@Kenichan I dived many times for the ball. Man...</td>\n",
       "      <td>0.0</td>\n",
       "    </tr>\n",
       "    <tr>\n",
       "      <th>2</th>\n",
       "      <td>2</td>\n",
       "      <td>my whole body feels itchy and like its on fire</td>\n",
       "      <td>0.0</td>\n",
       "    </tr>\n",
       "    <tr>\n",
       "      <th>3</th>\n",
       "      <td>3</td>\n",
       "      <td>@nationwideclass no, it's not behaving at all....</td>\n",
       "      <td>0.0</td>\n",
       "    </tr>\n",
       "    <tr>\n",
       "      <th>4</th>\n",
       "      <td>4</td>\n",
       "      <td>@Kwesidei not the whole crew</td>\n",
       "      <td>0.0</td>\n",
       "    </tr>\n",
       "  </tbody>\n",
       "</table>\n",
       "</div>"
      ],
      "text/plain": [
       "   Unnamed: 0                                              tweet  sentiment\n",
       "0           0  is upset that he can't update his Facebook by ...        0.0\n",
       "1           1  @Kenichan I dived many times for the ball. Man...        0.0\n",
       "2           2    my whole body feels itchy and like its on fire         0.0\n",
       "3           3  @nationwideclass no, it's not behaving at all....        0.0\n",
       "4           4                      @Kwesidei not the whole crew         0.0"
      ]
     },
     "execution_count": 2,
     "metadata": {},
     "output_type": "execute_result"
    }
   ],
   "source": [
    "df = pd.read_csv(\"C:/Users/vardh/Desktop/twitter_dataset.csv\")\n",
    "df.head()"
   ]
  },
  {
   "cell_type": "code",
   "execution_count": 3,
   "id": "e2cc9ecb",
   "metadata": {},
   "outputs": [
    {
     "name": "stdout",
     "output_type": "stream",
     "text": [
      "<class 'pandas.core.frame.DataFrame'>\n",
      "RangeIndex: 3142403 entries, 0 to 3142402\n",
      "Data columns (total 3 columns):\n",
      " #   Column      Dtype  \n",
      "---  ------      -----  \n",
      " 0   Unnamed: 0  int64  \n",
      " 1   tweet       object \n",
      " 2   sentiment   float64\n",
      "dtypes: float64(1), int64(1), object(1)\n",
      "memory usage: 71.9+ MB\n"
     ]
    },
    {
     "data": {
      "text/plain": [
       "0.0    1570067\n",
       "1.0    1561529\n",
       "2.0      10725\n",
       "Name: sentiment, dtype: int64"
      ]
     },
     "execution_count": 3,
     "metadata": {},
     "output_type": "execute_result"
    }
   ],
   "source": [
    "# datatype info\n",
    "df.info()\n",
    "df['sentiment'].value_counts()"
   ]
  },
  {
   "cell_type": "code",
   "execution_count": 4,
   "id": "a6420108",
   "metadata": {},
   "outputs": [],
   "source": [
    "#data.drop(['Unnamed: 0'],axis=1,inplace=True)"
   ]
  },
  {
   "cell_type": "code",
   "execution_count": null,
   "id": "85b7a69f",
   "metadata": {},
   "outputs": [],
   "source": []
  },
  {
   "cell_type": "code",
   "execution_count": 5,
   "id": "4ab4be1d",
   "metadata": {},
   "outputs": [],
   "source": [
    "# data_pos = data[data['sentiment'] == 1]\n",
    "# data_neg = data[data['sentiment'] == 0]"
   ]
  },
  {
   "cell_type": "code",
   "execution_count": 6,
   "id": "78ec06f4",
   "metadata": {},
   "outputs": [],
   "source": [
    "# data_pos = data_pos.iloc[:int(150000)]\n",
    "# data_neg = data_neg.iloc[:int(150000)]"
   ]
  },
  {
   "cell_type": "code",
   "execution_count": 7,
   "id": "601ab4bb",
   "metadata": {},
   "outputs": [],
   "source": [
    "#df = pd.concat([data_pos, data_neg])\n",
    "df['tweet']=df['tweet'].str.lower()\n",
    "df.reset_index(drop=True, inplace= True)"
   ]
  },
  {
   "cell_type": "markdown",
   "id": "242e2774",
   "metadata": {},
   "source": [
    "# Preprocessing the dataset"
   ]
  },
  {
   "cell_type": "code",
   "execution_count": 8,
   "id": "fa75864f",
   "metadata": {},
   "outputs": [],
   "source": [
    "# removes pattern in the input text\n",
    "def remove_pattern(input_txt, pattern):\n",
    "    r = re.findall(pattern, input_txt)\n",
    "    for word in r:\n",
    "        input_txt = re.sub(word, \"\", input_txt)\n",
    "    return input_txt"
   ]
  },
  {
   "cell_type": "code",
   "execution_count": 9,
   "id": "be7dd14a",
   "metadata": {},
   "outputs": [],
   "source": [
    "# Remove Usernames\n",
    "def rem_username(text):\n",
    "    pattern=re.compile(\"@[\\w]*\")\n",
    "    return pattern.sub('',text)\n",
    "df['clean_tweet']=df['tweet'].apply(rem_username)"
   ]
  },
  {
   "cell_type": "code",
   "execution_count": 10,
   "id": "e5dce764",
   "metadata": {},
   "outputs": [
    {
     "data": {
      "text/html": [
       "<div>\n",
       "<style scoped>\n",
       "    .dataframe tbody tr th:only-of-type {\n",
       "        vertical-align: middle;\n",
       "    }\n",
       "\n",
       "    .dataframe tbody tr th {\n",
       "        vertical-align: top;\n",
       "    }\n",
       "\n",
       "    .dataframe thead th {\n",
       "        text-align: right;\n",
       "    }\n",
       "</style>\n",
       "<table border=\"1\" class=\"dataframe\">\n",
       "  <thead>\n",
       "    <tr style=\"text-align: right;\">\n",
       "      <th></th>\n",
       "      <th>Unnamed: 0</th>\n",
       "      <th>tweet</th>\n",
       "      <th>sentiment</th>\n",
       "      <th>clean_tweet</th>\n",
       "    </tr>\n",
       "  </thead>\n",
       "  <tbody>\n",
       "    <tr>\n",
       "      <th>0</th>\n",
       "      <td>0</td>\n",
       "      <td>is upset that he can't update his facebook by ...</td>\n",
       "      <td>0.0</td>\n",
       "      <td>is upset that he can't update his facebook by ...</td>\n",
       "    </tr>\n",
       "    <tr>\n",
       "      <th>1</th>\n",
       "      <td>1</td>\n",
       "      <td>@kenichan i dived many times for the ball. man...</td>\n",
       "      <td>0.0</td>\n",
       "      <td>i dived many times for the ball. managed to s...</td>\n",
       "    </tr>\n",
       "    <tr>\n",
       "      <th>2</th>\n",
       "      <td>2</td>\n",
       "      <td>my whole body feels itchy and like its on fire</td>\n",
       "      <td>0.0</td>\n",
       "      <td>my whole body feels itchy and like its on fire</td>\n",
       "    </tr>\n",
       "    <tr>\n",
       "      <th>3</th>\n",
       "      <td>3</td>\n",
       "      <td>@nationwideclass no, it's not behaving at all....</td>\n",
       "      <td>0.0</td>\n",
       "      <td>no, it's not behaving at all. i'm mad. why am...</td>\n",
       "    </tr>\n",
       "    <tr>\n",
       "      <th>4</th>\n",
       "      <td>4</td>\n",
       "      <td>@kwesidei not the whole crew</td>\n",
       "      <td>0.0</td>\n",
       "      <td>not the whole crew</td>\n",
       "    </tr>\n",
       "  </tbody>\n",
       "</table>\n",
       "</div>"
      ],
      "text/plain": [
       "   Unnamed: 0                                              tweet  sentiment  \\\n",
       "0           0  is upset that he can't update his facebook by ...        0.0   \n",
       "1           1  @kenichan i dived many times for the ball. man...        0.0   \n",
       "2           2    my whole body feels itchy and like its on fire         0.0   \n",
       "3           3  @nationwideclass no, it's not behaving at all....        0.0   \n",
       "4           4                      @kwesidei not the whole crew         0.0   \n",
       "\n",
       "                                         clean_tweet  \n",
       "0  is upset that he can't update his facebook by ...  \n",
       "1   i dived many times for the ball. managed to s...  \n",
       "2    my whole body feels itchy and like its on fire   \n",
       "3   no, it's not behaving at all. i'm mad. why am...  \n",
       "4                                not the whole crew   "
      ]
     },
     "execution_count": 10,
     "metadata": {},
     "output_type": "execute_result"
    }
   ],
   "source": [
    "df.head()"
   ]
  },
  {
   "cell_type": "code",
   "execution_count": 11,
   "id": "26a26b47",
   "metadata": {},
   "outputs": [
    {
     "data": {
      "text/html": [
       "<div>\n",
       "<style scoped>\n",
       "    .dataframe tbody tr th:only-of-type {\n",
       "        vertical-align: middle;\n",
       "    }\n",
       "\n",
       "    .dataframe tbody tr th {\n",
       "        vertical-align: top;\n",
       "    }\n",
       "\n",
       "    .dataframe thead th {\n",
       "        text-align: right;\n",
       "    }\n",
       "</style>\n",
       "<table border=\"1\" class=\"dataframe\">\n",
       "  <thead>\n",
       "    <tr style=\"text-align: right;\">\n",
       "      <th></th>\n",
       "      <th>Unnamed: 0</th>\n",
       "      <th>tweet</th>\n",
       "      <th>sentiment</th>\n",
       "      <th>clean_tweet</th>\n",
       "    </tr>\n",
       "  </thead>\n",
       "  <tbody>\n",
       "    <tr>\n",
       "      <th>0</th>\n",
       "      <td>0</td>\n",
       "      <td>is upset that he can't update his facebook by ...</td>\n",
       "      <td>0.0</td>\n",
       "      <td>is upset that he can t update his facebook by ...</td>\n",
       "    </tr>\n",
       "    <tr>\n",
       "      <th>1</th>\n",
       "      <td>1</td>\n",
       "      <td>@kenichan i dived many times for the ball. man...</td>\n",
       "      <td>0.0</td>\n",
       "      <td>i dived many times for the ball  managed to s...</td>\n",
       "    </tr>\n",
       "    <tr>\n",
       "      <th>2</th>\n",
       "      <td>2</td>\n",
       "      <td>my whole body feels itchy and like its on fire</td>\n",
       "      <td>0.0</td>\n",
       "      <td>my whole body feels itchy and like its on fire</td>\n",
       "    </tr>\n",
       "    <tr>\n",
       "      <th>3</th>\n",
       "      <td>3</td>\n",
       "      <td>@nationwideclass no, it's not behaving at all....</td>\n",
       "      <td>0.0</td>\n",
       "      <td>no  it s not behaving at all  i m mad  why am...</td>\n",
       "    </tr>\n",
       "    <tr>\n",
       "      <th>4</th>\n",
       "      <td>4</td>\n",
       "      <td>@kwesidei not the whole crew</td>\n",
       "      <td>0.0</td>\n",
       "      <td>not the whole crew</td>\n",
       "    </tr>\n",
       "  </tbody>\n",
       "</table>\n",
       "</div>"
      ],
      "text/plain": [
       "   Unnamed: 0                                              tweet  sentiment  \\\n",
       "0           0  is upset that he can't update his facebook by ...        0.0   \n",
       "1           1  @kenichan i dived many times for the ball. man...        0.0   \n",
       "2           2    my whole body feels itchy and like its on fire         0.0   \n",
       "3           3  @nationwideclass no, it's not behaving at all....        0.0   \n",
       "4           4                      @kwesidei not the whole crew         0.0   \n",
       "\n",
       "                                         clean_tweet  \n",
       "0  is upset that he can t update his facebook by ...  \n",
       "1   i dived many times for the ball  managed to s...  \n",
       "2    my whole body feels itchy and like its on fire   \n",
       "3   no  it s not behaving at all  i m mad  why am...  \n",
       "4                                not the whole crew   "
      ]
     },
     "execution_count": 11,
     "metadata": {},
     "output_type": "execute_result"
    }
   ],
   "source": [
    "# remove special characters, numbers and punctuations\n",
    "df['clean_tweet'] = df['clean_tweet'].str.replace(\"[^a-zA-Z#]\", \" \")\n",
    "df.head()"
   ]
  },
  {
   "cell_type": "code",
   "execution_count": 12,
   "id": "1092c0ab",
   "metadata": {},
   "outputs": [
    {
     "data": {
      "text/html": [
       "<div>\n",
       "<style scoped>\n",
       "    .dataframe tbody tr th:only-of-type {\n",
       "        vertical-align: middle;\n",
       "    }\n",
       "\n",
       "    .dataframe tbody tr th {\n",
       "        vertical-align: top;\n",
       "    }\n",
       "\n",
       "    .dataframe thead th {\n",
       "        text-align: right;\n",
       "    }\n",
       "</style>\n",
       "<table border=\"1\" class=\"dataframe\">\n",
       "  <thead>\n",
       "    <tr style=\"text-align: right;\">\n",
       "      <th></th>\n",
       "      <th>Unnamed: 0</th>\n",
       "      <th>tweet</th>\n",
       "      <th>sentiment</th>\n",
       "      <th>clean_tweet</th>\n",
       "    </tr>\n",
       "  </thead>\n",
       "  <tbody>\n",
       "    <tr>\n",
       "      <th>0</th>\n",
       "      <td>0</td>\n",
       "      <td>is upset that he can't update his facebook by ...</td>\n",
       "      <td>0.0</td>\n",
       "      <td>upset that can update his facebook texting and...</td>\n",
       "    </tr>\n",
       "    <tr>\n",
       "      <th>1</th>\n",
       "      <td>1</td>\n",
       "      <td>@kenichan i dived many times for the ball. man...</td>\n",
       "      <td>0.0</td>\n",
       "      <td>dived many times for the ball managed save the...</td>\n",
       "    </tr>\n",
       "    <tr>\n",
       "      <th>2</th>\n",
       "      <td>2</td>\n",
       "      <td>my whole body feels itchy and like its on fire</td>\n",
       "      <td>0.0</td>\n",
       "      <td>whole body feels itchy and like its fire</td>\n",
       "    </tr>\n",
       "    <tr>\n",
       "      <th>3</th>\n",
       "      <td>3</td>\n",
       "      <td>@nationwideclass no, it's not behaving at all....</td>\n",
       "      <td>0.0</td>\n",
       "      <td>not behaving all mad why here because can see ...</td>\n",
       "    </tr>\n",
       "    <tr>\n",
       "      <th>4</th>\n",
       "      <td>4</td>\n",
       "      <td>@kwesidei not the whole crew</td>\n",
       "      <td>0.0</td>\n",
       "      <td>not the whole crew</td>\n",
       "    </tr>\n",
       "  </tbody>\n",
       "</table>\n",
       "</div>"
      ],
      "text/plain": [
       "   Unnamed: 0                                              tweet  sentiment  \\\n",
       "0           0  is upset that he can't update his facebook by ...        0.0   \n",
       "1           1  @kenichan i dived many times for the ball. man...        0.0   \n",
       "2           2    my whole body feels itchy and like its on fire         0.0   \n",
       "3           3  @nationwideclass no, it's not behaving at all....        0.0   \n",
       "4           4                      @kwesidei not the whole crew         0.0   \n",
       "\n",
       "                                         clean_tweet  \n",
       "0  upset that can update his facebook texting and...  \n",
       "1  dived many times for the ball managed save the...  \n",
       "2           whole body feels itchy and like its fire  \n",
       "3  not behaving all mad why here because can see ...  \n",
       "4                                 not the whole crew  "
      ]
     },
     "execution_count": 12,
     "metadata": {},
     "output_type": "execute_result"
    }
   ],
   "source": [
    "#remove short words\n",
    "df['clean_tweet'] = df['clean_tweet'].apply(lambda x: \" \".join([w for w in x.split() if len(w)>2]))\n",
    "df.head()"
   ]
  },
  {
   "cell_type": "markdown",
   "id": "0d0b1c61",
   "metadata": {},
   "source": [
    "# Tokenization"
   ]
  },
  {
   "cell_type": "code",
   "execution_count": 13,
   "id": "41efb4fb",
   "metadata": {},
   "outputs": [],
   "source": [
    "# from nltk.tokenize import word_tokenize\n",
    "# # nltk.download('punkt')\n",
    "# tokenized_tweet = df['clean_tweet'].apply(lambda text:word_tokenize(text))"
   ]
  },
  {
   "cell_type": "code",
   "execution_count": 14,
   "id": "b829cd72",
   "metadata": {},
   "outputs": [
    {
     "data": {
      "text/plain": [
       "0    [upset, that, can, update, his, facebook, text...\n",
       "1    [dived, many, times, for, the, ball, managed, ...\n",
       "2    [whole, body, feels, itchy, and, like, its, fire]\n",
       "3    [not, behaving, all, mad, why, here, because, ...\n",
       "4                              [not, the, whole, crew]\n",
       "Name: clean_tweet, dtype: object"
      ]
     },
     "execution_count": 14,
     "metadata": {},
     "output_type": "execute_result"
    }
   ],
   "source": [
    "#individual words considered as tokens\n",
    "tokenized_tweet = df['clean_tweet'].apply(lambda x: x.split())\n",
    "tokenized_tweet.head()"
   ]
  },
  {
   "cell_type": "markdown",
   "id": "b8682e21",
   "metadata": {},
   "source": [
    "# Stemming "
   ]
  },
  {
   "cell_type": "code",
   "execution_count": 15,
   "id": "d83003e3",
   "metadata": {},
   "outputs": [],
   "source": [
    "stopwordlist = ['a', 'about', 'above', 'after', 'again', 'ain', 'all', 'am', 'an',\n",
    "             'and','any','are', 'as', 'at', 'be', 'because', 'been', 'before',\n",
    "             'being', 'below', 'between','both', 'by', 'can', 'd', 'did', 'do',\n",
    "             'does', 'doing', 'down', 'during', 'each','few', 'for', 'from',\n",
    "             'further', 'had', 'has', 'have', 'having', 'he', 'her', 'here',\n",
    "             'hers', 'herself', 'him', 'himself', 'his', 'how', 'i', 'if', 'in',\n",
    "             'into','is', 'it', 'its', 'itself', 'just', 'll', 'm', 'ma',\n",
    "             'me', 'more', 'most','my', 'myself', 'now', 'o', 'of', 'on', 'once',\n",
    "             'only', 'or', 'other', 'our', 'ours','ourselves', 'out', 'own', 're','s', 'same', 'she', \"shes\", 'should', \"shouldve\",'so', 'some', 'such',\n",
    "             't', 'than', 'that', \"thatll\", 'the', 'their', 'theirs', 'them',\n",
    "             'themselves', 'then', 'there', 'these', 'they', 'this', 'those',\n",
    "             'through', 'to', 'too','under', 'until', 'up', 've', 'very', 'was',\n",
    "             'we', 'were', 'what', 'when', 'where','which','while', 'who', 'whom',\n",
    "             'why', 'will', 'with', 'won', 'y', 'you', \"youd\",\"youll\", \"youre\",\n",
    "             \"youve\", 'your', 'yours', 'yourself', 'yourselves']\n",
    "\n",
    "STOPWORDS = set(stopwordlist)\n",
    "# def cleaning_stopwords(text):\n",
    "#     return \" \".join([word for word in str(text).split() if word not in STOPWORDS])\n",
    "# data['clean_tweet'] = data['clean_tweet'].apply(lambda text: cleaning_stopwords(text) for i in text)\n",
    "# data['clean_tweet'].head()"
   ]
  },
  {
   "cell_type": "code",
   "execution_count": null,
   "id": "139cfdd3",
   "metadata": {},
   "outputs": [],
   "source": [
    "# stemming the words\n",
    "from nltk.stem.porter import PorterStemmer\n",
    "stemmer = PorterStemmer()\n",
    "tokenized_tweet = tokenized_tweet.apply(lambda sentence: [stemmer.stem(word.lower()) for word in sentence if word not in STOPWORDS])\n",
    "tokenized_tweet.head()"
   ]
  },
  {
   "cell_type": "code",
   "execution_count": null,
   "id": "2596b620",
   "metadata": {},
   "outputs": [],
   "source": [
    "# combine words into single sentence\n",
    "#df.reset_index(drop=True,inplace=True)\n",
    "for i in range(len(tokenized_tweet)):\n",
    "    tokenized_tweet[i] = \" \".join(tokenized_tweet[i])\n",
    "df['clean_tweet'] = tokenized_tweet\n",
    "df.head()"
   ]
  },
  {
   "cell_type": "markdown",
   "id": "2ab33e8a",
   "metadata": {},
   "source": [
    "# Visualizing Frequent words"
   ]
  },
  {
   "cell_type": "code",
   "execution_count": null,
   "id": "69e9d8da",
   "metadata": {},
   "outputs": [],
   "source": [
    "# visualize the frequent words\n",
    "all_words = \" \".join([sentence for sentence in df['clean_tweet']])\n",
    "\n",
    "from wordcloud import WordCloud\n",
    "wordcloud = WordCloud(width=800, height=500, random_state=42, max_font_size=100).generate(all_words)\n",
    "\n",
    "# plot the graph\n",
    "plt.figure(figsize=(15,8))\n",
    "plt.imshow(wordcloud, interpolation='bilinear')\n",
    "plt.axis('off')\n",
    "plt.show()\n"
   ]
  },
  {
   "cell_type": "code",
   "execution_count": null,
   "id": "2ad3e471",
   "metadata": {},
   "outputs": [],
   "source": [
    "# frequent words visualization for +ve\n",
    "all_words = \" \".join([sentence for sentence in df['clean_tweet'][df['sentiment']==1]])\n",
    "\n",
    "wordcloud = WordCloud(width=800, height=500, random_state=42, max_font_size=100).generate(all_words)\n",
    "\n",
    "# plot the graph\n",
    "plt.figure(figsize=(15,8))\n",
    "plt.imshow(wordcloud)\n",
    "plt.axis('off')\n",
    "plt.show()"
   ]
  },
  {
   "cell_type": "code",
   "execution_count": null,
   "id": "877c68a6",
   "metadata": {},
   "outputs": [],
   "source": [
    "# frequent words visualization for -ve\n",
    "all_words = \" \".join([sentence for sentence in df['clean_tweet'][df['sentiment']==0]])\n",
    "\n",
    "wordcloud = WordCloud(width=800, height=500, random_state=42, max_font_size=100).generate(all_words)\n",
    "\n",
    "# plotting the graph\n",
    "plt.figure(figsize=(15,8))\n",
    "plt.imshow(wordcloud)\n",
    "plt.axis('off')\n",
    "plt.show()"
   ]
  },
  {
   "cell_type": "markdown",
   "id": "a4d23c59",
   "metadata": {},
   "source": [
    "# Hashtags"
   ]
  },
  {
   "cell_type": "code",
   "execution_count": null,
   "id": "4e5b30d6",
   "metadata": {},
   "outputs": [],
   "source": [
    "# extract the hashtag\n",
    "def hashtag_extract(tweets):\n",
    "    hashtags = []\n",
    "    # loop words in the tweet\n",
    "    for tweet in tweets:\n",
    "        ht = re.findall(r\"#(\\w+)\", tweet)\n",
    "        hashtags.append(ht)\n",
    "    return hashtags    "
   ]
  },
  {
   "cell_type": "code",
   "execution_count": null,
   "id": "2adf68a1",
   "metadata": {},
   "outputs": [],
   "source": [
    "data['tweet'] = data['tweet'].apply(lambda x: \" \".join([w.lower() for w in x.split() if len(w)>3]))\n",
    "data.head()"
   ]
  },
  {
   "cell_type": "code",
   "execution_count": null,
   "id": "2056a460",
   "metadata": {},
   "outputs": [],
   "source": [
    "# extract hashtags from non-racist/sexist tweets\n",
    "ht_positive = hashtag_extract(data['tweet'][data['sentiment']==1])\n",
    "\n",
    "# extract hashtags from racist/sexist tweets\n",
    "ht_negative = hashtag_extract(data['tweet'][data['sentiment']==0])"
   ]
  },
  {
   "cell_type": "code",
   "execution_count": null,
   "id": "63dde69e",
   "metadata": {},
   "outputs": [],
   "source": [
    "ht_pos=[]\n",
    "for rows in ht_positive:\n",
    "    for i in rows:\n",
    "        ht_pos.append(i)\n",
    "ht_pos[:5]"
   ]
  },
  {
   "cell_type": "code",
   "execution_count": null,
   "id": "f78f707f",
   "metadata": {},
   "outputs": [],
   "source": [
    "ht_neg=[]\n",
    "for rows in ht_negative:\n",
    "    for i in rows:\n",
    "        ht_neg.append(i)\n",
    "ht_neg[:5]"
   ]
  },
  {
   "cell_type": "code",
   "execution_count": null,
   "id": "927aa769",
   "metadata": {},
   "outputs": [],
   "source": [
    "freq = nltk.FreqDist(ht_pos)\n",
    "d = pd.DataFrame({'Hashtag': list(freq.keys()),\n",
    "                 'Count': list(freq.values())})\n",
    "d.head(10)"
   ]
  },
  {
   "cell_type": "code",
   "execution_count": null,
   "id": "3195e1f7",
   "metadata": {},
   "outputs": [],
   "source": [
    "# select top 10 positive hashtags\n",
    "dp = d.nlargest(columns='Count',n=10)\n",
    "plt.figure(figsize=(15,9))\n",
    "ax=sns.barplot(data=dp, x='Hashtag', y='Count',edgecolor='black')\n",
    "for bars in ax.containers:\n",
    "    ax.bar_label(bars)"
   ]
  },
  {
   "cell_type": "code",
   "execution_count": null,
   "id": "f1ebd33a",
   "metadata": {},
   "outputs": [],
   "source": [
    "freqn = nltk.FreqDist(ht_neg)\n",
    "dn= pd.DataFrame({'Hashtag': list(freqn.keys()),\n",
    "                 'Count': list(freqn.values())})\n",
    "dn.head(10)"
   ]
  },
  {
   "cell_type": "code",
   "execution_count": null,
   "id": "b2db59aa",
   "metadata": {},
   "outputs": [],
   "source": [
    "# select top 10 negative hashtags\n",
    "dn = dn.nlargest(columns='Count', n=10)\n",
    "plt.figure(figsize=(15,9))\n",
    "ax=sns.barplot(data=dn, x='Hashtag', y='Count',edgecolor='black')\n",
    "for bars in ax.containers:\n",
    "    ax.bar_label(bars)"
   ]
  },
  {
   "cell_type": "markdown",
   "id": "eb146acd",
   "metadata": {},
   "source": [
    "# Creating the Bag of Words model"
   ]
  },
  {
   "cell_type": "code",
   "execution_count": null,
   "id": "c1eb2e26",
   "metadata": {},
   "outputs": [],
   "source": [
    "# feature extraction\n",
    "from sklearn.feature_extraction.text import CountVectorizer\n",
    "cv = CountVectorizer(max_df=0.90, min_df=2, max_features=1000, stop_words='english')\n",
    "x= cv.fit_transform(df['clean_tweet']).toarray()\n",
    "y=df['sentiment'].values"
   ]
  },
  {
   "cell_type": "markdown",
   "id": "b1972dc9",
   "metadata": {},
   "source": [
    "# Splitting the dataset into the Training set and Test set\n"
   ]
  },
  {
   "cell_type": "code",
   "execution_count": null,
   "id": "d40a682a",
   "metadata": {},
   "outputs": [],
   "source": [
    "from sklearn.model_selection import train_test_split\n",
    "x_train, x_test, y_train, y_test = train_test_split(x, y, random_state=42, test_size=0.25)"
   ]
  },
  {
   "cell_type": "markdown",
   "id": "f9b25a91",
   "metadata": {},
   "source": [
    "# Training the LogisticRegression model on the Training set"
   ]
  },
  {
   "cell_type": "code",
   "execution_count": null,
   "id": "65216724",
   "metadata": {},
   "outputs": [],
   "source": [
    "from sklearn.linear_model import LogisticRegression\n",
    "model_1= LogisticRegression()\n",
    "model_1.fit(x_train, y_train)"
   ]
  },
  {
   "cell_type": "markdown",
   "id": "412c0c22",
   "metadata": {},
   "source": [
    "Predicting Output and checking the model performance"
   ]
  },
  {
   "cell_type": "code",
   "execution_count": null,
   "id": "7eacba88",
   "metadata": {},
   "outputs": [],
   "source": [
    "# testing\n",
    "from sklearn.metrics import f1_score, accuracy_score,confusion_matrix\n",
    "pred = model_1.predict(x_test)"
   ]
  },
  {
   "cell_type": "code",
   "execution_count": null,
   "id": "1d655c3f",
   "metadata": {},
   "outputs": [],
   "source": [
    "cm1 = confusion_matrix(y_test, pred)\n",
    "print(cm1)\n",
    "print(\"f1_score : \",f1_score(y_test, pred))\n",
    "print(\"accuracy_score : \",accuracy_score(y_test,pred))"
   ]
  },
  {
   "cell_type": "markdown",
   "id": "905e2b71",
   "metadata": {},
   "source": [
    "# Training the Naive Bayes model on the Training set"
   ]
  },
  {
   "cell_type": "code",
   "execution_count": null,
   "id": "1f0d22cc",
   "metadata": {},
   "outputs": [],
   "source": [
    "from sklearn.naive_bayes import GaussianNB\n",
    "classifier = GaussianNB()\n",
    "classifier.fit(x_train, y_train)"
   ]
  },
  {
   "cell_type": "markdown",
   "id": "2d5aab0c",
   "metadata": {},
   "source": [
    "Predicting Output and checking the model performance"
   ]
  },
  {
   "cell_type": "code",
   "execution_count": null,
   "id": "7a72f880",
   "metadata": {},
   "outputs": [],
   "source": [
    "y1_pred = classifier.predict(x_test)\n",
    "from sklearn.metrics import confusion_matrix, accuracy_score\n",
    "cm = confusion_matrix(y_test, y1_pred)\n",
    "print(cm)\n",
    "print(\"f1_score : \",f1_score(y_test, y1_pred))\n",
    "print(\"accuracy_score : \",accuracy_score(y_test,y1_pred))"
   ]
  },
  {
   "cell_type": "markdown",
   "id": "7afd8a42",
   "metadata": {},
   "source": [
    "# Training the RandomForestClassifier model on the Training set"
   ]
  },
  {
   "cell_type": "code",
   "execution_count": null,
   "id": "37b13a6c",
   "metadata": {},
   "outputs": [],
   "source": [
    "from sklearn.ensemble import RandomForestClassifier\n",
    "RFC = RandomForestClassifier(n_estimators = 10, criterion = 'entropy', random_state = 0)\n",
    "RFC.fit(x_train, y_train)\n"
   ]
  },
  {
   "cell_type": "markdown",
   "id": "447b82c9",
   "metadata": {},
   "source": [
    "Predicting Output and checking the model performance"
   ]
  },
  {
   "cell_type": "code",
   "execution_count": null,
   "id": "dae7834e",
   "metadata": {},
   "outputs": [],
   "source": [
    "y2_pred = RFC.predict(x_test)\n",
    "cm1 = confusion_matrix(y_test, y2_pred)\n",
    "print(cm1)\n",
    "print(\"f1_score : \",f1_score(y_test, y2_pred))\n",
    "print(\"accuracy_score : \",accuracy_score(y_test,y2_pred))"
   ]
  },
  {
   "cell_type": "markdown",
   "id": "98d9b88e",
   "metadata": {},
   "source": [
    "# Training the SupportVectorClassifier model on the Training set"
   ]
  },
  {
   "cell_type": "code",
   "execution_count": null,
   "id": "5a09fcac",
   "metadata": {},
   "outputs": [],
   "source": [
    "# from sklearn.svm import SVC\n",
    "# svc = SVC(kernel = 'rbf', random_state = 0)\n",
    "# svc.fit(x_train, y_train)"
   ]
  },
  {
   "cell_type": "markdown",
   "id": "a2ebe00a",
   "metadata": {},
   "source": [
    "Predicting Output and checking the model performance"
   ]
  },
  {
   "cell_type": "code",
   "execution_count": null,
   "id": "f1a039bf",
   "metadata": {},
   "outputs": [],
   "source": [
    "# y3_pred = svc.predict(x_test)\n",
    "# cm2 = confusion_matrix(y_test, y3_pred)\n",
    "# print(cm2)\n",
    "# print(\"f1_score : \",f1_score(y_test, y3_pred))\n",
    "# print(\"accuracy_score : \",accuracy_score(y_test,y3_pred))"
   ]
  },
  {
   "cell_type": "markdown",
   "id": "3586647a",
   "metadata": {},
   "source": [
    "# Conclusion"
   ]
  },
  {
   "cell_type": "markdown",
   "id": "0117c4d4",
   "metadata": {},
   "source": [
    "Upon evaluating all the models we can conclude the following details i.e.\n",
    "\n",
    "Accuracy: As far as the accuracy of the model is SVM performs better than concerned Logistic Regression which in turn performs better than RandomForestClassifier.\n",
    "\n",
    "F1-score: The F1 Scores for class 0 and class 1 are : (a) For class 0: Bernoulli Naive Bayes(accuracy = 0.90) < SVM (accuracy =0.91) < Logistic Regression (accuracy = 0.92) (b) For class 1: Bernoulli Naive Bayes (accuracy = 0.66) < SVM (accuracy = 0.68) < Logistic Regression (accuracy = 0.69)\n",
    "\n",
    "We, therefore, conclude that the Support Vector Machine is the best model for the above-given dataset.\n",
    "\n",
    "In our problem statement, if the data has no assumption, then the simplest model works the best. Since our dataset does not have any assumptions and Logistic Regression is a simple model, therefore the concept holds true for the above-mentioned dataset."
   ]
  }
 ],
 "metadata": {
  "kernelspec": {
   "display_name": "Python 3 (ipykernel)",
   "language": "python",
   "name": "python3"
  },
  "language_info": {
   "codemirror_mode": {
    "name": "ipython",
    "version": 3
   },
   "file_extension": ".py",
   "mimetype": "text/x-python",
   "name": "python",
   "nbconvert_exporter": "python",
   "pygments_lexer": "ipython3",
   "version": "3.9.13"
  }
 },
 "nbformat": 4,
 "nbformat_minor": 5
}
